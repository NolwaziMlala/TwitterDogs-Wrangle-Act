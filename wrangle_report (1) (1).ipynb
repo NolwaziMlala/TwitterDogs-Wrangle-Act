{
 "cells": [
  {
   "cell_type": "markdown",
   "metadata": {},
   "source": [
    "## Reporting: wragle_report\n"
   ]
  },
  {
   "cell_type": "markdown",
   "metadata": {},
   "source": [
    "### Introduction"
   ]
  },
  {
   "cell_type": "markdown",
   "metadata": {},
   "source": [
    "The most challenging aspect of a data analyst's job is always data preparation. For this project, we will use our data wrangling abilities to extract real-world data from Twitter, clean it, and perform some analysis. In order to build our study, we will need the original Twitter data from Twitter user @dog rates as well as an image prediction dataset.\n"
   ]
  },
  {
   "cell_type": "markdown",
   "metadata": {},
   "source": [
    "### Gathering Data"
   ]
  },
  {
   "cell_type": "markdown",
   "metadata": {},
   "source": [
    "I had to gather information for my project from several sources and in a variety of forms.\n",
    "\n",
    "1. The WeRateDogs Twitter archive.\n",
    "The project provides the file, which is available for direct download from the Udacity website.\n",
    "2. The tweet image predictions.\n",
    "The file is stored on servers owned by Udacity. I automated the download of this file using Python's Requests package.\n",
    "3. Tweet_json file\n",
    "Retrieve from another file the retweet and favorite counts that are absent from the Twitter archive. Since I don't have a Twitter account, I decided to obtain the tweet JSON file programmatically using the Requests package."
   ]
  },
  {
   "cell_type": "markdown",
   "metadata": {},
   "source": [
    "### Assessing Data"
   ]
  },
  {
   "cell_type": "markdown",
   "metadata": {},
   "source": [
    "After gathering data, I began to assess the data on both quality and tidiness issues.My quality issues were as follows:\n",
    "1. For Twitter_ archives ,Columns with retweets information - retweeted_status_id, retweeted_status_user_id, retweeted_status_timestamp contain in total 181 values non-null.\n",
    "\n",
    "2. There are duplicates in image predictions. Drop duplicates.\n",
    "\n",
    "3. For Twitter_ archives, tweet_id should be a string\n",
    "\n",
    "4. Incorrect datatypes of \"timestamp\", \"rating_numerator\", \"rating_denomerator\".\n",
    "\n",
    "5. We can see that all names in lowercase are incorrect. There are also dogs with names ending in \"None.\" We can locate a name in a text column for a number of these rows. Whenever you can, extract names from text while excluding others.\n",
    "\n",
    "6. fix some of the ratings columns\n",
    "\n",
    "7. Remove HTML tags from source and make it more readable.\n",
    "\n",
    "8. We can notice that some of the values are lowercase and some of them uppercase. Names also have '' separator. Capitalise all the breeds and replace '' character with space.\n",
    "9. In several columns null objects are non-null (None to NaN).\n",
    "\n",
    "My tidiness issues were as follows:\n",
    "1. For each stage, a separate column is present. They should be combined to form one.\n",
    "\n",
    "2. The archive table should be combined with the image prediction data."
   ]
  },
  {
   "cell_type": "markdown",
   "metadata": {},
   "source": [
    "### Cleaning Data"
   ]
  },
  {
   "cell_type": "markdown",
   "metadata": {},
   "source": [
    "While assessing, I cleaned each of the issues listed. Even though the entire dataset has a lot of problems, fixing them all would take a lot of time. I therefore concentrated only on those relevant to my analysis. Before cleaning, it's also crucial to make copies of the original data. Certain issues will vanish when we clear them one at a time, it's crucial to address them in a logical order."
   ]
  },
  {
   "cell_type": "markdown",
   "metadata": {},
   "source": [
    "### Storing Data"
   ]
  },
  {
   "cell_type": "markdown",
   "metadata": {},
   "source": [
    "I reassesed the dataset and iterate as necessary after all the issues have been resolved. After that, save clean data to a.csv file."
   ]
  },
  {
   "cell_type": "markdown",
   "metadata": {},
   "source": [
    "### Analysis and visualisation"
   ]
  },
  {
   "cell_type": "markdown",
   "metadata": {},
   "source": [
    "I then did my analysis and visualisations. The results were as follows:\n",
    "1. The most popular dog names are Charlie, Lucy and Cooper.\n",
    "2. The most popular dog brees is the golden retriever\n",
    "3. There is a strong positive correlation between favorite_count and retweet_count\n",
    "4. The rating of 12 has the highest number of tweets\n"
   ]
  },
  {
   "cell_type": "code",
   "execution_count": null,
   "metadata": {},
   "outputs": [],
   "source": []
  }
 ],
 "metadata": {
  "kernelspec": {
   "display_name": "Python 3",
   "language": "python",
   "name": "python3"
  },
  "language_info": {
   "codemirror_mode": {
    "name": "ipython",
    "version": 3
   },
   "file_extension": ".py",
   "mimetype": "text/x-python",
   "name": "python",
   "nbconvert_exporter": "python",
   "pygments_lexer": "ipython3",
   "version": "3.8.8"
  }
 },
 "nbformat": 4,
 "nbformat_minor": 2
}
